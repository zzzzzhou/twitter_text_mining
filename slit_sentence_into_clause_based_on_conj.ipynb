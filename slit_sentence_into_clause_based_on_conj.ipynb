{
  "nbformat": 4,
  "nbformat_minor": 0,
  "metadata": {
    "colab": {
      "name": "slit sentence into clause based on conj.ipynb",
      "provenance": [],
      "collapsed_sections": [],
      "authorship_tag": "ABX9TyPNnBso0yyN/ykiCCv9rvzO",
      "include_colab_link": true
    },
    "kernelspec": {
      "name": "python3",
      "display_name": "Python 3"
    },
    "language_info": {
      "name": "python"
    }
  },
  "cells": [
    {
      "cell_type": "markdown",
      "metadata": {
        "id": "view-in-github",
        "colab_type": "text"
      },
      "source": [
        "<a href=\"https://colab.research.google.com/github/zzzzzhou/twitter_text_mining/blob/main/slit_sentence_into_clause_based_on_conj.ipynb\" target=\"_parent\"><img src=\"https://colab.research.google.com/assets/colab-badge.svg\" alt=\"Open In Colab\"/></a>"
      ]
    },
    {
      "cell_type": "code",
      "execution_count": 2,
      "metadata": {
        "colab": {
          "base_uri": "https://localhost:8080/"
        },
        "id": "2zt5cZ2CQ4l4",
        "outputId": "66943d9a-b8c5-4299-f1bb-9f0454ef972b"
      },
      "outputs": [
        {
          "output_type": "stream",
          "name": "stdout",
          "text": [
            "This all encompassing experience wore off for a moment and\n",
            "in that moment , my awareness came gasping to the surface of the hallucination\n",
            "and I was able to consider momentarily that I had killed myself by taking an outrageous dose of an online drug and this was the most pathetic death experience of all time .\n"
          ]
        }
      ],
      "source": [
        "import spacy\n",
        "en = spacy.load('en_core_web_sm')\n",
        "\n",
        "text = \"This all encompassing experience wore off for a moment and in that moment, my awareness came gasping to the surface of the hallucination and I was able to consider momentarily that I had killed myself by taking an outrageous dose of an online drug and this was the most pathetic death experience of all time.\"\n",
        "\n",
        "doc = en(text)\n",
        "#deplacy.render(doc)\n",
        "\n",
        "seen = set() # keep track of covered words\n",
        "\n",
        "chunks = []\n",
        "for sent in doc.sents:\n",
        "    heads = [cc for cc in sent.root.children if cc.dep_ == 'conj']\n",
        "\n",
        "    for head in heads:\n",
        "        words = [ww for ww in head.subtree]\n",
        "        for word in words:\n",
        "            seen.add(word)\n",
        "        chunk = (' '.join([ww.text for ww in words]))\n",
        "        chunks.append( (head.i, chunk) )\n",
        "\n",
        "    unseen = [ww for ww in sent if ww not in seen]\n",
        "    chunk = ' '.join([ww.text for ww in unseen])\n",
        "    chunks.append( (sent.root.i, chunk) )\n",
        "\n",
        "chunks = sorted(chunks, key=lambda x: x[0])\n",
        "\n",
        "for ii, chunk in chunks:\n",
        "    print(chunk)"
      ]
    },
    {
      "cell_type": "code",
      "source": [
        "type(chunks)"
      ],
      "metadata": {
        "colab": {
          "base_uri": "https://localhost:8080/"
        },
        "id": "FD0rzrppRTfg",
        "outputId": "db58b87a-f7de-46ee-cc16-919191652921"
      },
      "execution_count": 3,
      "outputs": [
        {
          "output_type": "execute_result",
          "data": {
            "text/plain": [
              "list"
            ]
          },
          "metadata": {},
          "execution_count": 3
        }
      ]
    },
    {
      "cell_type": "code",
      "source": [
        "print(chunks)"
      ],
      "metadata": {
        "colab": {
          "base_uri": "https://localhost:8080/"
        },
        "id": "ASTFUvQ-RXOc",
        "outputId": "3ab7489a-88de-425a-fc09-ef23eee4ecc0"
      },
      "execution_count": 4,
      "outputs": [
        {
          "output_type": "stream",
          "name": "stdout",
          "text": [
            "[(4, 'This all encompassing experience wore off for a moment and'), (16, 'in that moment , my awareness came gasping to the surface of the hallucination'), (26, 'and I was able to consider momentarily that I had killed myself by taking an outrageous dose of an online drug and this was the most pathetic death experience of all time .')]\n"
          ]
        }
      ]
    }
  ]
}